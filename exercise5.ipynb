{
 "cells": [
  {
   "cell_type": "markdown",
   "id": "be51d7ba",
   "metadata": {},
   "source": [
    "# Exercise 5: Regularized Linear Regression and Bias vs Variance"
   ]
  },
  {
   "cell_type": "markdown",
   "id": "43492ef4",
   "metadata": {},
   "source": [
    "In this exercise, we will implement regularized linear regression and use it to study models with different bias-variance properties. "
   ]
  },
  {
   "cell_type": "code",
   "execution_count": 1,
   "id": "f8b2462a",
   "metadata": {},
   "outputs": [],
   "source": [
    "# importing the important Libraries\n",
    "\n",
    "# Used for computations of numerical data.\n",
    "import numpy as np\n",
    "\n",
    "# Used for reading data and data manipulation\n",
    "import pandas as pd \n",
    "\n",
    "# Used for graphing data.\n",
    "import matplotlib.pyplot as plt\n",
    "\n",
    "# Used to load the OCTAVE *.mat files\n",
    "from scipy.io import loadmat\n",
    "\n",
    "# Optimization module in scipy\n",
    "from scipy import optimize\n",
    "import scipy.optimize as opt\n",
    "\n",
    "import utils\n",
    "\n",
    "\n",
    "# tells matplotlib to embed plots within the notebook\n",
    "%matplotlib inline"
   ]
  },
  {
   "cell_type": "markdown",
   "id": "6bd4bdc4",
   "metadata": {},
   "source": [
    "# ===== Part 1: Loading and Visualizing Data ====="
   ]
  },
  {
   "cell_type": "markdown",
   "id": "3d00fe8e",
   "metadata": {},
   "source": [
    "The dataset is divided into 3 parts: Training (n = 12), cross validation (n = 21) and test (n = 21). Start by plotting the data: Water flowing out the dam (y), against change in water level (x)."
   ]
  },
  {
   "cell_type": "code",
   "execution_count": 2,
   "id": "eb15bb70",
   "metadata": {},
   "outputs": [
    {
     "name": "stdout",
     "output_type": "stream",
     "text": [
      "[[-15.93675813]\n",
      " [-29.15297922]\n",
      " [ 36.18954863]\n",
      " [ 37.49218733]\n",
      " [-48.05882945]\n",
      " [ -8.94145794]\n",
      " [ 15.30779289]\n",
      " [-34.70626581]\n",
      " [  1.38915437]\n",
      " [-44.38375985]\n",
      " [  7.01350208]\n",
      " [ 22.76274892]]\n"
     ]
    },
    {
     "data": {
      "image/png": "[encoded data removed]",
      "text/plain": [
       "<Figure size 432x288 with 1 Axes>"
      ]
     },
     "metadata": {
      "needs_background": "light"
     },
     "output_type": "display_data"
    }
   ],
   "source": [
    "# Load data from ex5data1.mat, where all variables are stored in a dictionary\n",
    "data = loadmat('C:\\\\Users\\\\nomaniqbal\\\\Downloads\\\\notebook\\\\HomeworkMl\\\\mlclass-ex5-jin\\\\ex5data1.mat')\n",
    "\n",
    "# Extract train, test, validation data from dictionary\n",
    "# and also convert y's form 2-D matrix (MATLAB format) to a numpy vector\n",
    "\n",
    "# Training set that our model will learn on X and y\n",
    "X, y = data['X'], data['y'][:, 0]\n",
    "\n",
    "# A test set for evaluating performance. These are \"unseen\" examples which \n",
    "# our model did not see during training: Xtest, ytest\n",
    "Xtest, ytest = data['Xtest'], data['ytest'][:, 0]\n",
    "\n",
    "# A cross validation set for determining the regularization parameter: Xval, yval\n",
    "Xval, yval = data['Xval'], data['yval'][:, 0]\n",
    "\n",
    "print(X)\n",
    "\n",
    "# m = Number of examples\n",
    "m = y.size\n",
    "\n",
    "# Plot training data\n",
    "plt.plot(X, y, 'ro', ms=10, mec='k', mew=1)\n",
    "plt.xlabel('Change in water level (x)')\n",
    "plt.ylabel('Water flowing out of the dam (y)');"
   ]
  },
  {
   "cell_type": "markdown",
   "id": "cb7535e3",
   "metadata": {},
   "source": [
    "# ===== Part 2: Regularized Linear Regression Cost ====="
   ]
  },
  {
   "cell_type": "markdown",
   "id": "c4ee05dd",
   "metadata": {},
   "source": [
    "Lets calculate the regularized linear regression cost function. If possible, we will try to vectorize our code and avoid writing loops."
   ]
  },
  {
   "cell_type": "code",
   "execution_count": 3,
   "id": "f0439b81",
   "metadata": {},
   "outputs": [],
   "source": [
    "def linearRegCostFunction(X, y, theta, lambda_=0.0):\n",
    "\n",
    "    # Initialize some useful values\n",
    "    m = y.size # number of training examples\n",
    "\n",
    "    # we need to return the following variables correctly \n",
    "    J = 0\n",
    "    grad = np.zeros(theta.shape)\n",
    "\n",
    "    # 1*m @ m*1 = 1*1 in matrix multiplication\n",
    "    \n",
    "    h_theta = X@theta\n",
    "    \n",
    "    theta_new = theta.copy()\n",
    "    theta_new[0] = 0\n",
    "    reg = (lambda_/(2*m)) * np.sum( np.square(theta_new))\n",
    "    \n",
    "    J = (1/(2*m)) * np.sum( np.square(h_theta - y)) + reg\n",
    "    \n",
    "    grad =  (1/m) * (X.T @ (h_theta - y) + lambda_*theta_new)\n",
    "\n",
    "    return J, grad"
   ]
  },
  {
   "cell_type": "markdown",
   "id": "4e3394cd",
   "metadata": {},
   "source": [
    "now, lets run our cost function using theta initialized at [1, 1]"
   ]
  },
  {
   "cell_type": "code",
   "execution_count": 54,
   "id": "190d09e3",
   "metadata": {},
   "outputs": [
    {
     "name": "stdout",
     "output_type": "stream",
     "text": [
      "Cost at theta = [1, 1]:\t   303.993192 \n",
      "This value should be about 303.993192)\n",
      "\n"
     ]
    }
   ],
   "source": [
    "theta = np.array([1, 1])\n",
    "J, _ = linearRegCostFunction(np.concatenate([np.ones((m, 1)), X], axis=1), y, theta, 1)\n",
    "\n",
    "print('Cost at theta = [1, 1]:\\t   %f ' % J)\n",
    "print('This value should be about 303.993192)\\n' % J)"
   ]
  },
  {
   "cell_type": "markdown",
   "id": "aec3b79e",
   "metadata": {},
   "source": [
    "# ===== Part 3: Regularized Linear Regression Gradient ====="
   ]
  },
  {
   "cell_type": "markdown",
   "id": "69f8fdaf",
   "metadata": {},
   "source": [
    "now, will implement the gradient for regularized linear regression. Run the gradient function using theta initialized at [1, 1]. We should expect to see a gradient of [-15.30, 598.250]."
   ]
  },
  {
   "cell_type": "code",
   "execution_count": 55,
   "id": "79f2c24e",
   "metadata": {},
   "outputs": [
    {
     "name": "stdout",
     "output_type": "stream",
     "text": [
      "Gradient at theta = [1, 1]:  [-15.303016, 598.250744] \n",
      " (this value should be about [-15.303016, 598.250744])\n",
      "\n"
     ]
    }
   ],
   "source": [
    "theta = np.array([1, 1])\n",
    "J, grad = linearRegCostFunction(np.concatenate([np.ones((m, 1)), X], axis=1), y, theta, 1)\n",
    "\n",
    "print('Gradient at theta = [1, 1]:  [{:.6f}, {:.6f}] '.format(*grad))\n",
    "print(' (this value should be about [-15.303016, 598.250744])\\n')"
   ]
  },
  {
   "cell_type": "markdown",
   "id": "511c2d6f",
   "metadata": {},
   "source": [
    "# ===== Part 4: Train Linear Regression ====="
   ]
  },
  {
   "cell_type": "markdown",
   "id": "58fc423b",
   "metadata": {},
   "source": [
    "### Fitting linear regression"
   ]
  },
  {
   "cell_type": "markdown",
   "id": "2aa0174f",
   "metadata": {},
   "source": [
    "Once our cost function and gradient are working correctly, the next cell will run the code in trainLinearReg, to compute the optimal values of $\\theta$. This training function uses scipy's optimization module to minimize the cost function.\n",
    "In this part, we set regularization parameter $\\lambda$ to zero. Because our current implementation of linear regression is trying to fit a 2-dimensional $\\theta$, regularization will not be incredibly helpful for a  of such low dimension. In the later parts of the exercise, we will be using polynomial regression with regularization.  \n",
    "The best fit line tells us that the model is not a good fit to the data because the data has a non-linear pattern. While visualizing the best fit as shown is one possible way to debug your learning algorithm, it is not always easy to visualize the data and model. In the next section, we will implement a function to generate learning curves that can help us debug our learning algorithm even if it is not easy to visualize the data.  "
   ]
  },
  {
   "cell_type": "code",
   "execution_count": 83,
   "id": "b732856c",
   "metadata": {},
   "outputs": [],
   "source": [
    "# For graph plotting\n",
    "def trainLinearReg(linearRegCostFunction, X, y, lambda_=0.0, maxiter=200):\n",
    "    # Initialize Theta\n",
    "    initial_theta = np.zeros(X.shape[1])\n",
    "    # Create \"short hand\" for the cost function to be minimized\n",
    "    costFunction = lambda t: linearRegCostFunction(X, y, t, lambda_)\n",
    "    # Now, costFunction is a function that takes in only one argument\n",
    "    options = {'maxiter': maxiter}\n",
    "    # Minimize using scipy\n",
    "    res = optimize.minimize(costFunction, initial_theta, jac=True, method='TNC', options=options)\n",
    "    return res.x\n",
    "\n",
    "def plotFit(polyFeatures, min_x, max_x, mu, sigma, theta, p):\n",
    "    # We plot a range slightly bigger than the min and max values to get\n",
    "    # an idea of how the fit will vary outside the range of the data points\n",
    "    x = np.arange(min_x - 15, max_x + 25, 0.05).reshape(-1, 1)\n",
    "    # Map the X values\n",
    "    X_poly = polyFeatures(x, p)\n",
    "    X_poly -= mu\n",
    "    X_poly /= sigma\n",
    "    # Add ones\n",
    "    X_poly = np.concatenate([np.ones((x.shape[0], 1)), X_poly], axis=1)\n",
    "    # Plot\n",
    "    plt.plot(x, np.dot(X_poly, theta), '--', lw=2)\n"
   ]
  },
  {
   "cell_type": "code",
   "execution_count": 84,
   "id": "4d89355c",
   "metadata": {},
   "outputs": [
    {
     "data": {
      "image/png": "[encoded data removed]",
      "text/plain": [
       "<Figure size 432x288 with 1 Axes>"
      ]
     },
     "metadata": {
      "needs_background": "light"
     },
     "output_type": "display_data"
    }
   ],
   "source": [
    "# add a columns of ones for the y-intercept\n",
    "X_aug = np.concatenate([np.ones((m, 1)), X], axis=1)\n",
    "theta = trainLinearReg(linearRegCostFunction, X_aug, y, lambda_=0)\n",
    "\n",
    "#  Plot fit over the data\n",
    "plt.plot(X, y, 'ro', ms=10, mec='k', mew=1.5)\n",
    "plt.xlabel('Change in water level (x)')\n",
    "plt.ylabel('Water flowing out of the dam (y)')\n",
    "plt.plot(X, np.dot(X_aug, theta), '--', lw=2);"
   ]
  },
  {
   "cell_type": "markdown",
   "id": "36abf8a9",
   "metadata": {},
   "source": [
    "# ===== Part 5: Learning Curve for Linear Regression ====="
   ]
  },
  {
   "cell_type": "markdown",
   "id": "b0e35f5c",
   "metadata": {},
   "source": [
    "### Bias-variance\n",
    "An important concept in machine learning is the bias-variance tradeoff. Models with high bias are not complex enough for the data and tend to underfit, while models with high variance overfit to the training data.  \n",
    "Here we will plot training and test errors on a learning curve to investigate bias and variance.  "
   ]
  },
  {
   "cell_type": "markdown",
   "id": "2522f533",
   "metadata": {},
   "source": [
    "### Learning curves\n",
    "we will now implement code to generate the learning curves that will be useful in debugging learning algorithms. Recall that a learning curve plots training and cross validation error as a function of training set size. our job is to fill in the function learningCurve, so that it returns a vector of errors for the training set and cross validation set.  \n",
    "To plot the learning curve, we need a training and cross validation set error for different training set sizes. To obtain different training set sizes, we should use different subsets of the original training set X. Specifically, for a training set size of i, ishould use the first i examples (i.e., X[:i, :] and y[:i]).  \n",
    "A learning curve plots error as a function of training set size. Taking a subset of the training set, we calculate theta values, compute the corresponding training error and cross validation error, then iterate over increasing training set size to see the shape of the learning curve.  "
   ]
  },
  {
   "cell_type": "code",
   "execution_count": 85,
   "id": "29d4e7fd",
   "metadata": {},
   "outputs": [],
   "source": [
    "def learningCurve(X, y, Xval, yval, lambda_=0):\n",
    "    # Number of training examples\n",
    "    m = y.size\n",
    "\n",
    "    # We need to return these values correctly\n",
    "    error_train = np.zeros(m)\n",
    "    error_val   = np.zeros(m)\n",
    "         \n",
    "    for i in range(1, m + 1):\n",
    "        theta = trainLinearReg(linearRegCostFunction, X[:i, :], y[:i], lambda_)\n",
    "        error_train[i - 1] = linearRegCostFunction(X[:i, :], y[:i], theta, 0)[0]\n",
    "        error_val[i - 1] = linearRegCostFunction(Xval, yval, theta, 0)[0]\n",
    "        \n",
    "    return error_train, error_val"
   ]
  },
  {
   "cell_type": "code",
   "execution_count": 86,
   "id": "9673d0b2",
   "metadata": {},
   "outputs": [
    {
     "name": "stdout",
     "output_type": "stream",
     "text": [
      "# Training Examples\tTrain Error\tCross Validation Error\n",
      "  \t1\t\t0.000000\t205.121096\n",
      "  \t2\t\t0.000000\t110.302641\n",
      "  \t3\t\t3.286595\t45.010231\n",
      "  \t4\t\t2.842678\t48.368910\n",
      "  \t5\t\t13.154049\t35.865165\n",
      "  \t6\t\t19.443963\t33.829962\n",
      "  \t7\t\t20.098522\t31.970986\n",
      "  \t8\t\t18.172859\t30.862446\n",
      "  \t9\t\t22.609405\t31.135998\n",
      "  \t10\t\t23.261462\t28.936207\n",
      "  \t11\t\t24.317250\t29.551432\n",
      "  \t12\t\t22.373906\t29.433818\n"
     ]
    },
    {
     "data": {
      "image/png": "[encoded data removed]",
      "text/plain": [
       "<Figure size 432x288 with 1 Axes>"
      ]
     },
     "metadata": {
      "needs_background": "light"
     },
     "output_type": "display_data"
    }
   ],
   "source": [
    "X_aug = np.concatenate([np.ones((m, 1)), X], axis=1)\n",
    "Xval_aug = np.concatenate([np.ones((yval.size, 1)), Xval], axis=1)\n",
    "error_train, error_val = learningCurve(X_aug, y, Xval_aug, yval, lambda_=0)\n",
    "\n",
    "plt.plot(np.arange(1, m+1), error_train, np.arange(1, m+1), error_val, lw=2)\n",
    "plt.title('Learning curve for linear regression')\n",
    "plt.legend(['Train', 'Cross Validation'])\n",
    "plt.xlabel('Number of training examples')\n",
    "plt.ylabel('Error')\n",
    "plt.axis([0, 13, 0, 150])\n",
    "\n",
    "print('# Training Examples\\tTrain Error\\tCross Validation Error')\n",
    "for i in range(m):\n",
    "    print('  \\t%d\\t\\t%f\\t%f' % (i+1, error_train[i], error_val[i]))"
   ]
  },
  {
   "cell_type": "markdown",
   "id": "149b5e44",
   "metadata": {},
   "source": [
    "In the learning curve figure, we can observe that both the train error and cross validation error are high when the number of training examples is increased. This reflects a high bias problem in the model - the linear regression model is too simple and is unable to fit our dataset well. In the next section, we will implement polynomial regression to fit a better model for this dataset."
   ]
  },
  {
   "cell_type": "markdown",
   "id": "d0ebffe5",
   "metadata": {},
   "source": [
    "# ===== Part 6: Feature Mapping for Polynomial Regression ====="
   ]
  },
  {
   "cell_type": "markdown",
   "id": "b8af7d18",
   "metadata": {},
   "source": [
    "The problem with our linear model was that it was too simple for the data and resulted in underfitting (high bias). In this part of the exercise, you will address this problem by adding more features.  \n",
    "So, here we add more features, by using high powers of the existing feature x (water level). Let’s make a function that takes a matrix with the ones for the theta(0) term already included, and returns our higher dimension matrix."
   ]
  },
  {
   "cell_type": "code",
   "execution_count": 88,
   "id": "f1e13919",
   "metadata": {},
   "outputs": [],
   "source": [
    "def polyFeatures(X, p):\n",
    "\n",
    "    # You need to return the following variables correctly.\n",
    "    X_poly = np.zeros((X.shape[0], p))\n",
    "\n",
    "    for i in range(p):\n",
    "        X_poly[:, i] = np.power(X, i+1).T\n",
    "\n",
    "    return X_poly"
   ]
  },
  {
   "cell_type": "markdown",
   "id": "fdb53969",
   "metadata": {},
   "source": [
    "Since we are using higher order polynomials, feature normalization helps keep our numbers manageable."
   ]
  },
  {
   "cell_type": "code",
   "execution_count": 89,
   "id": "07b162d8",
   "metadata": {},
   "outputs": [],
   "source": [
    "def featureNormalize(X):\n",
    "    mu = np.mean(X, axis=0)\n",
    "    X_norm = X - mu\n",
    "\n",
    "    sigma = np.std(X_norm, axis=0, ddof=1)\n",
    "    X_norm /= sigma\n",
    "    return X_norm, mu, sigma"
   ]
  },
  {
   "cell_type": "markdown",
   "id": "f6783ac5",
   "metadata": {},
   "source": [
    "Now, We have a function that will map features to a higher dimension. The next cell will apply it to the training set, the test set, and the cross validation set."
   ]
  },
  {
   "cell_type": "code",
   "execution_count": 90,
   "id": "9f410034",
   "metadata": {},
   "outputs": [
    {
     "name": "stdout",
     "output_type": "stream",
     "text": [
      "Normalized Training Example 1:\n"
     ]
    },
    {
     "data": {
      "text/plain": [
       "array([ 1.        , -0.36214078, -0.75508669,  0.18222588, -0.70618991,\n",
       "        0.30661792, -0.59087767,  0.3445158 , -0.50848117])"
      ]
     },
     "execution_count": 90,
     "metadata": {},
     "output_type": "execute_result"
    }
   ],
   "source": [
    "p = 8\n",
    "\n",
    "# Map X onto Polynomial Features and Normalize\n",
    "X_poly = polyFeatures(X, p)\n",
    "X_poly, mu, sigma = featureNormalize(X_poly)\n",
    "X_poly = np.concatenate([np.ones((m, 1)), X_poly], axis=1)\n",
    "\n",
    "# Map X_poly_test and normalize (using mu and sigma)\n",
    "X_poly_test = polyFeatures(Xtest, p)\n",
    "X_poly_test -= mu\n",
    "X_poly_test /= sigma\n",
    "X_poly_test = np.concatenate([np.ones((ytest.size, 1)), X_poly_test], axis=1)\n",
    "\n",
    "# Map X_poly_val and normalize (using mu and sigma)\n",
    "X_poly_val = polyFeatures(Xval, p)\n",
    "X_poly_val -= mu\n",
    "X_poly_val /= sigma\n",
    "X_poly_val = np.concatenate([np.ones((yval.size, 1)), X_poly_val], axis=1)\n",
    "\n",
    "print('Normalized Training Example 1:')\n",
    "X_poly[0, :]"
   ]
  },
  {
   "cell_type": "markdown",
   "id": "ff1728c7",
   "metadata": {},
   "source": [
    "# ===== Part 7: Learning Curve for Polynomial Regression ====="
   ]
  },
  {
   "cell_type": "markdown",
   "id": "f35cf261",
   "metadata": {},
   "source": [
    "After we have completed the function polyFeatures, we will proceed to train polynomial regression using your linear regression cost function.\n",
    "\n",
    "Keep in mind that even though we have polynomial terms in our feature vector, we are still solving a linear regression optimization problem. The polynomial terms have simply turned into features that we can use for linear regression. We are using the same cost function and gradient that you wrote for the earlier part of this exercise.\n",
    "\n",
    "For this part of the exercise, you will be using a polynomial of degree 8. It turns out that if we run the training directly on the projected data, will not work well as the features would be badly scaled (e.g., an example with $x = 40$ will now have a feature $x_8 = 40^8 = 6.5 \\times 10^{12}$). Therefore, you will need to use feature normalization.\n",
    "\n",
    "Before learning the parameters $\\theta$ for the polynomial regression, we first call featureNormalize and normalize the features of the training set, storing the mu, sigma parameters separately. \n",
    "\n",
    "After learning the parameters $\\theta$, you should see two plots generated for polynomial regression with $\\lambda = 0$"
   ]
  },
  {
   "cell_type": "code",
   "execution_count": 91,
   "id": "a540adc8",
   "metadata": {},
   "outputs": [
    {
     "name": "stdout",
     "output_type": "stream",
     "text": [
      "Polynomial Regression (lambda = 100.000000)\n",
      "\n",
      "# Training Examples\tTrain Error\tCross Validation Error\n",
      "  \t1\t\t0.000000\t138.846777\n",
      "  \t2\t\t0.114107\t144.125230\n",
      "  \t3\t\t106.956580\t70.863286\n",
      "  \t4\t\t121.740879\t78.372963\n",
      "  \t5\t\t102.949459\t63.845046\n",
      "  \t6\t\t97.169857\t59.532632\n",
      "  \t7\t\t83.326539\t59.585493\n",
      "  \t8\t\t76.491825\t58.699842\n",
      "  \t9\t\t71.297176\t59.564455\n",
      "  \t10\t\t64.350636\t59.731344\n",
      "  \t11\t\t58.997943\t60.409869\n",
      "  \t12\t\t57.977080\t57.842195\n"
     ]
    },
    {
     "data": {
      "image/png": "[encoded data removed]",
      "text/plain": [
       "<Figure size 432x288 with 1 Axes>"
      ]
     },
     "metadata": {
      "needs_background": "light"
     },
     "output_type": "display_data"
    },
    {
     "data": {
      "image/png": "[encoded data removed]",
      "text/plain": [
       "<Figure size 432x288 with 1 Axes>"
      ]
     },
     "metadata": {
      "needs_background": "light"
     },
     "output_type": "display_data"
    }
   ],
   "source": [
    "lambda_ = 100\n",
    "theta = trainLinearReg(linearRegCostFunction, X_poly, y,\n",
    "                             lambda_=lambda_, maxiter=55)\n",
    "\n",
    "# Plot training data and fit\n",
    "plt.plot(X, y, 'ro', ms=10, mew=1.5, mec='k')\n",
    "\n",
    "plotFit(polyFeatures, np.min(X), np.max(X), mu, sigma, theta, p)\n",
    "\n",
    "plt.xlabel('Change in water level (x)')\n",
    "plt.ylabel('Water flowing out of the dam (y)')\n",
    "plt.title('Polynomial Regression Fit (lambda = %f)' % lambda_)\n",
    "plt.ylim([-20, 50])\n",
    "\n",
    "plt.figure()\n",
    "error_train, error_val = learningCurve(X_poly, y, X_poly_val, yval, lambda_)\n",
    "plt.plot(np.arange(1, 1+m), error_train, np.arange(1, 1+m), error_val)\n",
    "\n",
    "plt.title('Polynomial Regression Learning Curve (lambda = %f)' % lambda_)\n",
    "plt.xlabel('Number of training examples')\n",
    "plt.ylabel('Error')\n",
    "plt.axis([0, 13, 0, 100])\n",
    "plt.legend(['Train', 'Cross Validation'])\n",
    "\n",
    "print('Polynomial Regression (lambda = %f)\\n' % lambda_)\n",
    "print('# Training Examples\\tTrain Error\\tCross Validation Error')\n",
    "for i in range(m):\n",
    "    print('  \\t%d\\t\\t%f\\t%f' % (i+1, error_train[i], error_val[i]))\n"
   ]
  },
  {
   "cell_type": "markdown",
   "id": "58f095be",
   "metadata": {},
   "source": [
    "One way to combat the overfitting (high-variance) problem is to add regularization to the model. In the next section, We will get to try different $\\lambda$ parameters to see how regularization can lead to a better model."
   ]
  },
  {
   "cell_type": "markdown",
   "id": "dd7bc0f6",
   "metadata": {},
   "source": [
    "# ===== Part 8: Validation for Selecting Lambda ====="
   ]
  },
  {
   "cell_type": "markdown",
   "id": "db08c556",
   "metadata": {},
   "source": [
    "In this section, we will observe how the regularization parameter affects the bias-variance of regularized polynomial regression. We should now modify the the lambda parameter and try $\\lambda = 1, 100$. For each of these values, the script should generate a polynomial fit to the data and also a learning curve.\n",
    "\n",
    "For $\\lambda = 1$, the generated plots should look like the the figure below. You should see a polynomial fit that follows the data trend well (left) and a learning curve (right) showing that both the cross validation and training error converge to a relatively low value. This shows the $\\lambda = 1$ regularized polynomial regression model does not have the high-bias or high-variance problems. In effect, it achieves a good trade-off between bias and variance.\n",
    "For $\\lambda = 100$, we should see a polynomial fit (figure below) that does not follow the data well. In this case, there is too much regularization and the model is unable to fit the training data."
   ]
  },
  {
   "cell_type": "markdown",
   "id": "57287d77",
   "metadata": {},
   "source": [
    "### Selecting  using a cross validation set\n",
    "From the previous parts of the exercise, We observed that the value of $\\lambda$ can significantly affect the results of regularized polynomial regression on the training and cross validation set. In particular, a model without regularization ($\\lambda=0$) fits the training set well, but does not generalize. Conversely, a model with too much regularization ($\\lambda=100$) does not fit the training set and testing set well. A good choice of  $\\lambda$(e.g., $\\lambda=1$) can provide a good fit to the data.\n",
    "\n",
    "In this section, we will implement an automated method to select the $\\lambda$ parameter. Concretely, we will use a cross validation set to evaluate how good each $\\lambda$ value is. After selecting the best $\\lambda$ value using the cross validation set, we can then evaluate the model on the test set to estimate how well the model will perform on actual unseen data.\n",
    "\n",
    "we will use the trainLinearReg function to train the model using different values of  and compute the training error and cross validation error in the function validationCurve. we should try  in the following range: {0, 0.001, 0.003, 0.01, 0.03, 0.1, 0.3, 1, 3, 10}."
   ]
  },
  {
   "cell_type": "code",
   "execution_count": 96,
   "id": "a417395f",
   "metadata": {},
   "outputs": [],
   "source": [
    "def validationCurve(X, y, Xval, yval):\n",
    "    # Selected values of lambda (you should not change this)\n",
    "    lambda_vec = [0, 0.001, 0.003, 0.01, 0.03, 0.1, 0.3, 1, 3, 10]\n",
    "\n",
    "    # You need to return these variables correctly.\n",
    "    error_train = np.zeros(len(lambda_vec))\n",
    "    error_val = np.zeros(len(lambda_vec))\n",
    "\n",
    "    for i in range(1, len(lambda_vec) + 1):\n",
    "        lambda_ = lambda_vec[i - 1]\n",
    "        theta = trainLinearReg(linearRegCostFunction, X, y, lambda_)\n",
    "        error_train[i - 1] = linearRegCostFunction(X, y, theta, 0)[0]\n",
    "        error_val[i - 1] = linearRegCostFunction(Xval, yval, theta, 0)[0]\n",
    "\n",
    "    return lambda_vec, error_train, error_val"
   ]
  },
  {
   "cell_type": "markdown",
   "id": "800ff208",
   "metadata": {},
   "source": [
    "After this, now, we will run our function and plot a cross validation curve of error v.s. $\\lambda$ that allows us select which $\\lambda$ parameter to use."
   ]
  },
  {
   "cell_type": "code",
   "execution_count": 97,
   "id": "d4b74847",
   "metadata": {},
   "outputs": [
    {
     "name": "stdout",
     "output_type": "stream",
     "text": [
      "lambda\t\tTrain Error\tValidation Error\n",
      " 0.000000\t0.029686\t43.849641\n",
      " 0.001000\t0.113053\t9.931598\n",
      " 0.003000\t0.170918\t16.324192\n",
      " 0.010000\t0.221495\t16.947421\n",
      " 0.030000\t0.281856\t12.829038\n",
      " 0.100000\t0.459333\t7.586743\n",
      " 0.300000\t0.921762\t4.636836\n",
      " 1.000000\t2.076199\t4.260603\n",
      " 3.000000\t4.901377\t3.822907\n",
      " 10.000000\t16.092273\t9.945554\n"
     ]
    },
    {
     "data": {
      "image/png": "[encoded data removed]",
      "text/plain": [
       "<Figure size 432x288 with 1 Axes>"
      ]
     },
     "metadata": {
      "needs_background": "light"
     },
     "output_type": "display_data"
    }
   ],
   "source": [
    "lambda_vec, error_train, error_val = validationCurve(X_poly, y, X_poly_val, yval)\n",
    "\n",
    "plt.plot(lambda_vec, error_train, '-o', lambda_vec, error_val, '-o', lw=2)\n",
    "plt.legend(['Train', 'Cross Validation'])\n",
    "plt.xlabel('lambda')\n",
    "plt.ylabel('Error')\n",
    "\n",
    "print('lambda\\t\\tTrain Error\\tValidation Error')\n",
    "for i in range(len(lambda_vec)):\n",
    "    print(' %f\\t%f\\t%f' % (lambda_vec[i], error_train[i], error_val[i]))"
   ]
  },
  {
   "cell_type": "markdown",
   "id": "5c63ec12",
   "metadata": {},
   "source": [
    "# ===== Part 9: Computing test set error and Plotting learning curves with randomly selected examples====="
   ]
  },
  {
   "cell_type": "markdown",
   "id": "63f528e0",
   "metadata": {},
   "source": [
    "In practice, especially for small training sets, when We plot learning curves to debug our algorithms, it is often helpful to average across multiple sets of randomly selected examples to determine the training error and cross validation error.\n",
    "\n",
    "Concretely, to determine the training error and cross validation error for  examples, we should first randomly select i examples from the training set and i examples from the cross validation set. You will then learn the parameters $\\theta$ using the randomly chosen training set and evaluate the parameters $\\theta$ on the randomly chosen training set and cross validation set. The above steps should then be repeated multiple times (say 50) and the averaged error should be used to determine the training error and cross validation error for i examples.\n",
    "\n",
    "For this exercise, We should implement the above strategy for computing the learning curves. For reference, the figure below shows the learning curve we obtained for polynomial regression with $\\lambda = 0.01$. our figure may differ slightly due to the random selection of examples."
   ]
  },
  {
   "cell_type": "code",
   "execution_count": 100,
   "id": "00cbf525",
   "metadata": {},
   "outputs": [
    {
     "data": {
      "image/png": "[encoded data removed]",
      "text/plain": [
       "<Figure size 432x288 with 1 Axes>"
      ]
     },
     "metadata": {
      "needs_background": "light"
     },
     "output_type": "display_data"
    }
   ],
   "source": [
    "lambda_ = 0.01\n",
    "repeat = 50\n",
    "\n",
    "m = X_poly.shape[0]\n",
    "error_train = np.zeros(m)\n",
    "error_val = np.zeros(m)\n",
    "\n",
    "for i in range(m):\n",
    "    # Initialize Theta\n",
    "    initial_theta = np.zeros(X_poly.shape[1])\n",
    "\n",
    "    # Create \"short hand\" for the cost function to be minimized\n",
    "    costFunction = lambda t, X, y: linearRegCostFunction(X, y, t, lambda_)[0]\n",
    "    gradFunction = lambda t, X, y: linearRegCostFunction(X, y, t, lambda_)[1]\n",
    "\n",
    "    # Now, costFunction is a function that takes in only one argument\n",
    "    options = {'maxiter': 200, 'disp': False}\n",
    "    error_train_temp = 0\n",
    "    error_val_temp = 0\n",
    "    \n",
    "    for j in range(repeat):\n",
    "        random_i = np.random.permutation(m)[:i + 1]\n",
    "        # Minimize using fmincg\n",
    "        res = opt.minimize(costFunction, initial_theta, args=(X_poly[random_i], y[random_i]), method='CG', jac=gradFunction, options=options)\n",
    "        theta = res.x\n",
    "        error_train_temp += linearRegCostFunction(X_poly[random_i], y[random_i], theta, 0)[0]\n",
    "        error_val_temp += linearRegCostFunction(X_poly_val[random_i], yval[random_i], theta, 0)[0]\n",
    "    \n",
    "    error_train[i] = error_train_temp / repeat\n",
    "    error_val[i] = error_val_temp / repeat\n",
    "    \n",
    "plt.plot(np.arange(m), error_train)\n",
    "plt.plot(np.arange(m), error_val)\n",
    "\n",
    "plt.title(f'Polynomial Regression Learning Curve ($\\lambda$ = {lambda_:g})')\n",
    "plt.xlabel('Number of training examples')\n",
    "plt.ylabel('Error')\n",
    "plt.axis([0, 13, 0, 100])\n",
    "plt.legend(['Train', 'Cross Validation'])\n",
    "plt.show()"
   ]
  },
  {
   "cell_type": "code",
   "execution_count": null,
   "id": "7ecfa6f4",
   "metadata": {},
   "outputs": [],
   "source": []
  }
 ],
 "metadata": {
  "kernelspec": {
   "display_name": "Python 3",
   "language": "python",
   "name": "python3"
  },
  "language_info": {
   "codemirror_mode": {
    "name": "ipython",
    "version": 3
   },
   "file_extension": ".py",
   "mimetype": "text/x-python",
   "name": "python",
   "nbconvert_exporter": "python",
   "pygments_lexer": "ipython3",
   "version": "3.8.8"
  }
 },
 "nbformat": 4,
 "nbformat_minor": 5
}
